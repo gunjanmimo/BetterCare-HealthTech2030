{
 "cells": [
  {
   "cell_type": "code",
   "execution_count": 3,
   "metadata": {},
   "outputs": [],
   "source": [
    "# !pip install requests"
   ]
  },
  {
   "cell_type": "code",
   "execution_count": 1,
   "metadata": {},
   "outputs": [
    {
     "name": "stdout",
     "output_type": "stream",
     "text": [
      "Message sent successfully!\n"
     ]
    }
   ],
   "source": [
    "import requests\n",
    "\n",
    "# Replace these with your bot's token and chat ID\n",
    "TOKEN = '7702172009:AAHwqcS2nLsXWZ5BjW16cgGnM0So4DUQ94s'\n",
    "CHAT_ID = '6581638728'\n",
    "MESSAGE = \"\"\"\n",
    "I understand how incredibly hard this must be for you. Your loved one is receiving our full attention and care. They're facing some challenges with their blood pressure right now, including some issues with blood pressure and breathing. We're using specialized equipment to support them and monitoring their condition very closely. In the meantime, try not to worry too much about constant updates - rest assured that we're watching over your loved one carefully. \n",
    "We encourage you to take care of yourselves during this time too. Please know that we will keep you updated on any significant changes, and we’re here to support you through this difficult time.\n",
    "\"\"\"\n",
    "\n",
    "# URL for the Telegram API\n",
    "url = f'https://api.telegram.org/bot{TOKEN}/sendMessage'\n",
    "\n",
    "# Parameters for the API call\n",
    "params = {\n",
    "    'chat_id': CHAT_ID,\n",
    "    'text': MESSAGE\n",
    "}\n",
    "\n",
    "# Sending the message\n",
    "response = requests.post(url, data=params)\n",
    "\n",
    "# Check the response\n",
    "if response.status_code == 200:\n",
    "    print('Message sent successfully!')\n",
    "else:\n",
    "    print('Failed to send message:', response.text)\n"
   ]
  },
  {
   "cell_type": "code",
   "execution_count": null,
   "metadata": {},
   "outputs": [],
   "source": []
  }
 ],
 "metadata": {
  "kernelspec": {
   "display_name": "upc",
   "language": "python",
   "name": "python3"
  },
  "language_info": {
   "codemirror_mode": {
    "name": "ipython",
    "version": 3
   },
   "file_extension": ".py",
   "mimetype": "text/x-python",
   "name": "python",
   "nbconvert_exporter": "python",
   "pygments_lexer": "ipython3",
   "version": "3.11.10"
  }
 },
 "nbformat": 4,
 "nbformat_minor": 2
}
